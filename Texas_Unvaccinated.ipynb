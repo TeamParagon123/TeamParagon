{
 "cells": [
  {
   "cell_type": "markdown",
   "metadata": {},
   "source": [
    "Person object parameters:\n",
    "\n",
    "Joes:\n",
    "has a state: Suceptable, Infected, Recovered\n",
    "has number of days sick\n",
    "chance of being sick\n",
    "\n"
   ]
  },
  {
   "cell_type": "code",
   "execution_count": 1,
   "metadata": {},
   "outputs": [],
   "source": [
    "import numpy as np\n",
    "import random\n",
    "\n",
    "my_array = np.array"
   ]
  },
  {
   "cell_type": "code",
   "execution_count": 2,
   "metadata": {},
   "outputs": [],
   "source": [
    "#Unvaccinated in Texas 38% not fully vaccinated\n",
    "class Person(object):\n",
    "    def __init__(self):\n",
    "    \n",
    "        self.status = \"Susceptible\"\n",
    "        self.days_sick = 0\n",
    "        self.sickness_rate = 10\n",
    "        #self.sickness_rate = 5(vaccinated)\n",
    "        self.Interaction = []\n",
    "    \n",
    "    def set_sickness_rate(self, new_rate):\n",
    "        self.sickness_rate = new_rate\n",
    "    \n",
    "    def infect(self, number_of_days_sick):\n",
    "        self.status = \"Infected\"\n",
    "        self.days_sick = number_of_days_sick\n",
    "    \n",
    "    def recover(self):\n",
    "        self.status = \"Recovered\"\n",
    "        self.days_sick = 0\n",
    "    \n",
    "    def update(self):\n",
    "        if (self.status == \"Susceptible\"):\n",
    "            self.roll_for_infection()\n",
    "            \n",
    "        elif (self.status == \"Infected\"):            \n",
    "            self.days_sick = self.days_sick - 1\n",
    "            if (self.days_sick <= 0):\n",
    "                self.recover()\n",
    "    \n",
    "    def update_days_sick(self):\n",
    "        if (self.status == \"Infected\"):            \n",
    "            self.days_sick = self.days_sick - 1\n",
    "            if (self.days_sick <= 0):\n",
    "                self.recover()\n",
    "            \n",
    "\n",
    "            \n",
    "    def roll_for_infection(self):\n",
    "        is_sick = (random.randint(0,101) < self.sickness_rate)\n",
    "        if (is_sick):\n",
    "            self.infect(4)\n",
    "            \n",
    "        "
   ]
  },
  {
   "cell_type": "markdown",
   "metadata": {},
   "source": [
    "Let's implement our object\n",
    "start w/ instantiating Joe as a Person"
   ]
  },
  {
   "cell_type": "code",
   "execution_count": 3,
   "metadata": {},
   "outputs": [
    {
     "name": "stdout",
     "output_type": "stream",
     "text": [
      "Joe is Infected day:1\n",
      "Jane is Infected day:1\n",
      "Joe is Infected day:2\n",
      "Jane is Infected day:2\n",
      "Joe is Infected day:3\n",
      "Jane is Infected day:3\n",
      "Joe is Infected day:4\n",
      "Jane is Infected day:4\n",
      "Joe is Recovered day:5\n",
      "Jane is Recovered day:5\n"
     ]
    }
   ],
   "source": [
    "Joe = Person()\n",
    "Jane = Person()\n",
    "Jane.set_sickness_rate(10) #jane has a different sickness rate, joe has the default\n",
    "\n",
    "day = 0\n",
    "\n",
    "while (Joe.status != \"Recovered\" or Jane.status != \"Recovered\"):\n",
    "    day = day + 1        \n",
    "    Joe.update()\n",
    "    if (Joe.status == \"Infected\" or Jane.status == \"Infected\"):\n",
    "        Jane.update()\n",
    "        \n",
    "        \n",
    "    print(\"Joe is \" + Joe.status + \" day:\" + str(day))\n",
    "    print(\"Jane is \" + Jane.status + \" day:\" + str(day))\n",
    "    \n",
    "    #My conditions didn't happen, let's rerun\n",
    "    #if Joe is recovered and Jane is still susceptable, the condtions for our program weren't met\n",
    "    #run it again!\n",
    "    if (Joe.status == \"Recovered\" and Jane.status == \"Susceptible\"):\n",
    "        Joe.status = \"Susceptible\"\n",
    "        day = 0\n",
    "        print()\n",
    "        print (\"------- reset -------\")\n"
   ]
  },
  {
   "cell_type": "markdown",
   "metadata": {},
   "source": [
    "We're going to create a population of 100 Persons\n"
   ]
  },
  {
   "cell_type": "code",
   "execution_count": 4,
   "metadata": {},
   "outputs": [],
   "source": [
    "my_population = []\n",
    "n = 101\n",
    "for i in range(0,n):\n",
    "    generic_dude = Person()\n",
    "    my_population.append(generic_dude) # we now have a population of 100 people\n",
    "    "
   ]
  },
  {
   "cell_type": "code",
   "execution_count": 5,
   "metadata": {},
   "outputs": [
    {
     "name": "stdout",
     "output_type": "stream",
     "text": [
      "<class 'list'>\n"
     ]
    }
   ],
   "source": [
    "print (type(my_population))"
   ]
  },
  {
   "cell_type": "code",
   "execution_count": 6,
   "metadata": {},
   "outputs": [
    {
     "name": "stdout",
     "output_type": "stream",
     "text": [
      "101\n"
     ]
    }
   ],
   "source": [
    "print (len(my_population))"
   ]
  },
  {
   "cell_type": "code",
   "execution_count": 7,
   "metadata": {},
   "outputs": [
    {
     "name": "stdout",
     "output_type": "stream",
     "text": [
      "<class '__main__.Person'>\n"
     ]
    }
   ],
   "source": [
    "print (type(my_population[99]))"
   ]
  },
  {
   "cell_type": "code",
   "execution_count": 8,
   "metadata": {},
   "outputs": [
    {
     "name": "stdout",
     "output_type": "stream",
     "text": [
      "Infected\n"
     ]
    }
   ],
   "source": [
    "my_population[99].infect(10)\n",
    "print (my_population[99].status)"
   ]
  },
  {
   "cell_type": "code",
   "execution_count": 9,
   "metadata": {},
   "outputs": [
    {
     "name": "stdout",
     "output_type": "stream",
     "text": [
      "Person: 0  interacted with: [63, 75, 48, 87, 91, 75, 55, 18, 88, 63]\n",
      "Person: 1  interacted with: [98, 0, 93, 8, 61, 21, 5, 74, 47, 44]\n",
      "Person: 2  interacted with: [54, 68, 79, 28, 49, 88, 83, 37, 41, 74]\n",
      "Person: 3  interacted with: [34, 1, 87, 23, 83, 35, 48, 6, 62, 75]\n",
      "Person: 4  interacted with: [26, 89, 67, 71, 77, 27, 25, 41, 57, 20]\n",
      "Person: 5  interacted with: [97, 45, 36, 68, 52, 48, 80, 12, 84, 54]\n",
      "Person: 6  interacted with: [78, 36, 10, 16, 25, 59, 15, 30, 98, 49]\n",
      "Person: 7  interacted with: [19, 14, 31, 88, 69, 92, 16, 57, 14, 23]\n",
      "Person: 8  interacted with: [99, 62, 19, 83, 6, 65, 45, 20, 95, 4]\n",
      "Person: 9  interacted with: [31, 6, 3, 10, 49, 15, 31, 37, 43, 15]\n",
      "Person: 10  interacted with: [44, 84, 94, 15, 66, 14, 43, 8, 56, 83]\n",
      "Person: 11  interacted with: [70, 98, 21, 1, 49, 97, 2, 5, 18, 50]\n",
      "Person: 12  interacted with: [34, 56, 94, 75, 71, 0, 53, 74, 41, 40]\n",
      "Person: 13  interacted with: [15, 1, 1, 77, 86, 99, 41, 90, 86, 76]\n",
      "Person: 14  interacted with: [35, 37, 0, 27, 36, 4, 2, 44, 80, 41]\n",
      "Person: 15  interacted with: [27, 30, 36, 18, 75, 53, 43, 50, 5, 97]\n",
      "Person: 16  interacted with: [74, 45, 61, 83, 88, 87, 15, 93, 89, 10]\n",
      "Person: 17  interacted with: [82, 78, 49, 21, 34, 26, 40, 84, 0, 11]\n",
      "Person: 18  interacted with: [93, 9, 31, 88, 27, 19, 78, 66, 5, 39]\n",
      "Person: 19  interacted with: [89, 72, 73, 21, 23, 72, 44, 20, 34, 13]\n",
      "Person: 20  interacted with: [56, 62, 62, 23, 0, 39, 55, 70, 40, 26]\n",
      "Person: 21  interacted with: [44, 66, 16, 35, 13, 59, 38, 58, 96, 59]\n",
      "Person: 22  interacted with: [57, 40, 7, 19, 11, 78, 7, 94, 97, 10]\n",
      "Person: 23  interacted with: [0, 1, 68, 51, 46, 20, 32, 53, 59, 22]\n",
      "Person: 24  interacted with: [19, 70, 8, 49, 79, 95, 32, 40, 79, 38]\n",
      "Person: 25  interacted with: [7, 89, 21, 28, 5, 31, 75, 23, 43, 8]\n",
      "Person: 26  interacted with: [29, 11, 26, 59, 22, 14, 26, 82, 65, 24]\n",
      "Person: 27  interacted with: [43, 96, 22, 17, 85, 82, 53, 63, 5, 83]\n",
      "Person: 28  interacted with: [45, 3, 7, 12, 82, 48, 98, 88, 38, 76]\n",
      "Person: 29  interacted with: [26, 30, 8, 98, 39, 50, 19, 44, 67, 74]\n",
      "Person: 30  interacted with: [36, 54, 11, 64, 83, 45, 18, 29, 98, 80]\n",
      "Person: 31  interacted with: [83, 1, 56, 39, 17, 69, 44, 53, 1, 38]\n",
      "Person: 32  interacted with: [28, 38, 91, 29, 44, 83, 14, 79, 89, 45]\n",
      "Person: 33  interacted with: [32, 39, 99, 93, 22, 100, 13, 20, 33, 66]\n",
      "Person: 34  interacted with: [3, 24, 65, 82, 70, 43, 13, 100, 66, 10]\n",
      "Person: 35  interacted with: [62, 6, 27, 25, 42, 39, 48, 13, 62, 81]\n",
      "Person: 36  interacted with: [61, 4, 83, 19, 27, 21, 44, 58, 20, 88]\n",
      "Person: 37  interacted with: [34, 55, 84, 51, 23, 76, 30, 52, 94, 83]\n",
      "Person: 38  interacted with: [26, 36, 59, 62, 8, 71, 52, 17, 45, 98]\n",
      "Person: 39  interacted with: [71, 18, 59, 33, 75, 52, 57, 17, 39, 96]\n",
      "Person: 40  interacted with: [13, 9, 81, 36, 82, 9, 57, 48, 90, 96]\n",
      "Person: 41  interacted with: [74, 31, 53, 77, 57, 45, 34, 57, 10, 76]\n",
      "Person: 42  interacted with: [86, 10, 91, 46, 54, 94, 6, 73, 20, 100]\n",
      "Person: 43  interacted with: [93, 94, 90, 82, 11, 39, 25, 37, 94, 77]\n",
      "Person: 44  interacted with: [60, 27, 8, 13, 8, 98, 75, 41, 22, 67]\n",
      "Person: 45  interacted with: [72, 83, 44, 100, 82, 46, 18, 95, 91, 50]\n",
      "Person: 46  interacted with: [4, 1, 7, 5, 16, 26, 74, 21, 29, 73]\n",
      "Person: 47  interacted with: [8, 28, 85, 69, 23, 16, 43, 46, 20, 13]\n",
      "Person: 48  interacted with: [16, 32, 56, 88, 94, 16, 24, 11, 18, 66]\n",
      "Person: 49  interacted with: [56, 74, 27, 73, 68, 41, 57, 47, 79, 41]\n",
      "Person: 50  interacted with: [66, 73, 7, 10, 16, 68, 42, 90, 54, 20]\n",
      "Person: 51  interacted with: [69, 82, 93, 48, 58, 12, 42, 18, 35, 80]\n",
      "Person: 52  interacted with: [29, 55, 59, 47, 46, 52, 70, 32, 76, 45]\n",
      "Person: 53  interacted with: [37, 36, 53, 66, 39, 44, 3, 61, 89, 54]\n",
      "Person: 54  interacted with: [81, 26, 20, 68, 55, 52, 89, 19, 67, 45]\n",
      "Person: 55  interacted with: [12, 11, 31, 67, 91, 43, 4, 76, 94, 1]\n",
      "Person: 56  interacted with: [89, 5, 20, 47, 53, 87, 0, 99, 87, 100]\n",
      "Person: 57  interacted with: [48, 16, 88, 35, 70, 87, 78, 94, 16, 71]\n",
      "Person: 58  interacted with: [29, 60, 1, 56, 1, 96, 3, 13, 10, 16]\n",
      "Person: 59  interacted with: [13, 80, 33, 72, 59, 100, 53, 49, 45, 50]\n",
      "Person: 60  interacted with: [23, 46, 63, 66, 18, 47, 10, 94, 74, 76]\n",
      "Person: 61  interacted with: [77, 98, 60, 37, 92, 22, 94, 99, 61, 42]\n",
      "Person: 62  interacted with: [71, 8, 54, 45, 39, 8, 42, 46, 64, 5]\n",
      "Person: 63  interacted with: [34, 30, 54, 52, 20, 32, 48, 70, 26, 74]\n",
      "Person: 64  interacted with: [79, 76, 43, 12, 14, 12, 33, 47, 22, 4]\n",
      "Person: 65  interacted with: [36, 88, 48, 46, 96, 98, 51, 64, 62, 40]\n",
      "Person: 66  interacted with: [53, 82, 42, 78, 87, 28, 39, 72, 56, 82]\n",
      "Person: 67  interacted with: [66, 32, 42, 44, 50, 71, 45, 62, 24, 4]\n",
      "Person: 68  interacted with: [51, 23, 85, 98, 35, 96, 61, 85, 49, 76]\n",
      "Person: 69  interacted with: [52, 26, 10, 60, 22, 88, 10, 14, 99, 44]\n",
      "Person: 70  interacted with: [76, 11, 75, 56, 92, 45, 83, 44, 84, 14]\n",
      "Person: 71  interacted with: [47, 27, 63, 64, 72, 57, 25, 47, 56, 65]\n",
      "Person: 72  interacted with: [23, 45, 58, 37, 15, 5, 21, 76, 65, 20]\n",
      "Person: 73  interacted with: [68, 46, 27, 87, 69, 80, 74, 43, 38, 20]\n",
      "Person: 74  interacted with: [13, 87, 95, 86, 38, 34, 82, 12, 96, 24]\n",
      "Person: 75  interacted with: [97, 72, 2, 44, 50, 95, 7, 47, 92, 91]\n",
      "Person: 76  interacted with: [80, 12, 94, 8, 42, 75, 51, 79, 20, 93]\n",
      "Person: 77  interacted with: [86, 76, 45, 1, 39, 81, 42, 39, 28, 39]\n",
      "Person: 78  interacted with: [1, 35, 6, 89, 80, 47, 41, 96, 48, 77]\n",
      "Person: 79  interacted with: [24, 13, 79, 54, 69, 20, 49, 13, 88, 81]\n",
      "Person: 80  interacted with: [84, 26, 22, 71, 9, 82, 7, 51, 100, 63]\n",
      "Person: 81  interacted with: [66, 41, 46, 97, 82, 49, 85, 39, 46, 39]\n",
      "Person: 82  interacted with: [87, 7, 3, 88, 50, 45, 24, 92, 82, 54]\n",
      "Person: 83  interacted with: [88, 13, 59, 33, 48, 42, 89, 71, 39, 58]\n",
      "Person: 84  interacted with: [59, 13, 74, 58, 73, 15, 46, 65, 70, 36]\n",
      "Person: 85  interacted with: [72, 13, 17, 36, 87, 86, 43, 32, 57, 53]\n",
      "Person: 86  interacted with: [20, 82, 23, 24, 3, 91, 9, 54, 59, 5]\n",
      "Person: 87  interacted with: [50, 66, 28, 72, 48, 94, 34, 21, 73, 65]\n",
      "Person: 88  interacted with: [83, 6, 29, 26, 12, 70, 75, 25, 67, 30]\n",
      "Person: 89  interacted with: [0, 57, 72, 24, 19, 50, 75, 53, 87, 8]\n",
      "Person: 90  interacted with: [70, 94, 9, 87, 21, 80, 38, 99, 91, 51]\n",
      "Person: 91  interacted with: [82, 29, 26, 75, 41, 7, 59, 95, 47, 3]\n",
      "Person: 92  interacted with: [80, 87, 95, 16, 75, 7, 63, 76, 80, 0]\n",
      "Person: 93  interacted with: [5, 90, 12, 97, 1, 22, 10, 16, 4, 35]\n",
      "Person: 94  interacted with: [51, 96, 100, 59, 40, 51, 30, 39, 7, 17]\n",
      "Person: 95  interacted with: [4, 53, 60, 19, 32, 20, 17, 4, 34, 65]\n",
      "Person: 96  interacted with: [81, 86, 0, 89, 83, 11, 29, 72, 49, 9]\n",
      "Person: 97  interacted with: [60, 75, 13, 46, 57, 87, 88, 32, 46, 31]\n",
      "Person: 98  interacted with: [41, 91, 25, 13, 19, 87, 63, 56, 64, 71]\n",
      "Person: 99  interacted with: [80, 55, 51, 30, 17, 9, 20, 55, 52, 96]\n",
      "Person: 100  interacted with: [94, 96, 58, 1, 14, 97, 50, 88, 53, 6]\n"
     ]
    }
   ],
   "source": [
    "interactions = []\n",
    "index = -1\n",
    "for p in my_population:\n",
    "    p_interactions = []\n",
    "    for i in range(0,10):\n",
    "        r = random.randint(0,100)\n",
    "        p_interactions.append(r)\n",
    "    interactions.append(p_interactions)\n",
    "\n",
    "for i in interactions:\n",
    "    index = index + 1\n",
    "    print (\"Person:\", index, \" interacted with:\", i)"
   ]
  },
  {
   "cell_type": "markdown",
   "metadata": {},
   "source": [
    "Randomly Infect 10 people\n",
    "print out the number of people who are sick at the beginning of day 1\n",
    "\n",
    "We're going to simulate Day 1\n",
    "If anyone interacts with these 10 people, they must roll a die to see if they get sick\n",
    "\n",
    "meaning, every sick person that shows up in someones interaction list, that someone rolls to see if they get sick or not.\n",
    "\n",
    "Also, *every* person who shows up in a sick persons interaction list, has to roll to see if they get sick or now.\n",
    "\n",
    "Print out the number of people sick after day 1"
   ]
  },
  {
   "cell_type": "code",
   "execution_count": 10,
   "metadata": {},
   "outputs": [],
   "source": [
    "#first thing: infect 10 people\n",
    "\n",
    "#print out the number of people who are sick\n",
    "\n",
    "#look at their interaction lists\n",
    "\n",
    "#If anyone interacts with them, see if they get sick\n",
    "\n",
    "\n"
   ]
  },
  {
   "cell_type": "code",
   "execution_count": 11,
   "metadata": {},
   "outputs": [
    {
     "name": "stdout",
     "output_type": "stream",
     "text": [
      "Day 1, number of people sick:10\n",
      "[39, 48, 87, 3, 23, 19, 88, 85, 6, 25]\n",
      "End of Day 1, number of people sick: 58\n",
      "[39, 48, 87, 3, 23, 19, 88, 85, 6, 25, 31, 53, 9, 18, 2, 58, 78, 99, 35, 22, 61, 20, 40, 45, 37, 96, 15, 50, 51, 77, 13, 54, 90, 64, 67, 68, 71, 80, 73, 75, 76, 27, 82, 46, 86, 29, 49, 95, 41, 55, 91, 47, 93, 10, 43, 97, 98, 100]\n"
     ]
    }
   ],
   "source": [
    "# We're selecting 10 indexes of people we're going to infect\n",
    "currently_infected = random.sample(range(100), 10)\n",
    "\n",
    "for i in currently_infected:\n",
    "    my_population[i].infect(5)\n",
    "\n",
    "\n",
    "print (\"Day 1, number of people sick:\" + str(len(currently_infected)))\n",
    "print (currently_infected)\n",
    "\n",
    "interactions = []\n",
    "person_index = -1\n",
    "for p in my_population:\n",
    "    person_index = person_index + 1\n",
    "\n",
    "    # if person_index is in the currently_sick list, everyone they interact w/ can get sick\n",
    "    \n",
    "    p_interactions = []\n",
    "    for i in range(0,10):        \n",
    "        r = random.randint(0,99)\n",
    "        p_interactions.append(r)\n",
    "\n",
    "        #If person_index is already sick, everyone they contact, might also get sick\n",
    "        \n",
    "        if (person_index in currently_infected):\n",
    "            my_population[r].update()\n",
    "            if (my_population[r].status == \"Infected\" and r not in currently_infected):\n",
    "                currently_infected.append(r)\n",
    "        #If anyone has an infected person in their interactions list, *they* might get infected\n",
    "        if (r in currently_infected):\n",
    "            my_population[person_index].update()\n",
    "            if (my_population[person_index].status == \"Infected\" and person_index not in currently_infected):\n",
    "                currently_infected.append(person_index)\n",
    "    interactions.append(p_interactions)\n",
    "        \n",
    "        \n",
    "# person_index = -1\n",
    "# for i in interactions:\n",
    "#     person_index = person_index + 1\n",
    "#     print (\"Person:\", person_index, \" interacted with:\", i)\n",
    "\n",
    "print (\"End of Day 1, number of people sick:\", len(currently_infected))\n",
    "print (currently_infected)"
   ]
  },
  {
   "cell_type": "markdown",
   "metadata": {},
   "source": [
    "## We need \"something\" to manage and hold our People"
   ]
  },
  {
   "cell_type": "code",
   "execution_count": 12,
   "metadata": {},
   "outputs": [],
   "source": [
    "class Population:\n",
    "    def __init__(self, number=100, interaction=10):\n",
    "        self.People = []\n",
    "        self.number = number\n",
    "        self.interaction = interaction\n",
    "        \n",
    "        if (number < 100):\n",
    "            self.number = 100\n",
    "        \n",
    "        if (interaction < 10):\n",
    "            self.interaction = 10\n",
    "        \n",
    "        ##build our population\n",
    "        patient_Zero = Person()\n",
    "        patient_Zero.infect(5)\n",
    "        \n",
    "        self.People.append(patient_Zero)\n",
    "        \n",
    "        for i in range(0,number):\n",
    "            p = Person()\n",
    "            self.People.append(p)\n",
    "            \n",
    "    def number_of_sick(self):\n",
    "        sick_Count = 0\n",
    "        for j in self.People:\n",
    "            if (j.status == \"Infected\"):\n",
    "                sick_Count = sick_Count + 1\n",
    "                \n",
    "        return sick_Count\n",
    "    \n",
    "    def number_of_recovered(self):\n",
    "        recovered_Count = 0\n",
    "        for j in self.People:\n",
    "            if (j.status == \"Recovered\"):\n",
    "                recovered_Count = recovered_Count + 1\n",
    "        \n",
    "        return recovered_Count\n",
    "    \n",
    "    def number_of_susceptible(self):\n",
    "        susceptible_Count = 0\n",
    "        for j in self.People:\n",
    "            if (j.status == \"Susceptible\"):\n",
    "                susceptible_Count = susceptible_Count + 1\n",
    "                \n",
    "        return susceptible_Count\n",
    "    \n",
    "    ## Here's the brains of the Population class (and our code)\n",
    "    ## the update will be ran everyday (meaning, every iteration of our while loop)\n",
    "    ## build interaction tables (who interacted with whom)\n",
    "    ## if marked sick they must roll to see if (one per interaction)\n",
    "    ## if I interacted with 10 people, each of them must roll and vice versa if they\n",
    "    ## they were marked as infected\n",
    "    def update(self):\n",
    "        ## people who are might get sick\n",
    "        might_Get_Sick = []\n",
    "        \n",
    "        for person in self.People:\n",
    "            \n",
    "            #clear out your interactions per day\n",
    "            person.Interaction = []\n",
    "            \n",
    "            ##These are the n number of people that you interact with\n",
    "            for i in range(0, self.interaction):\n",
    "                r = random.randint(0,self.number)\n",
    "                person.Interaction.append(r)\n",
    "                \n",
    "            ##if \"person\" is Infected, every single person they interacted with might get sick\n",
    "            if (person.status == \"Infected\"):\n",
    "                person.update_days_sick()\n",
    "                \n",
    "                for m in person.Interaction:\n",
    "                    if (self.People[m].status == \"Susceptible\"): #only susceptible people can get sick\n",
    "                        might_Get_Sick.append(self.People[m])\n",
    "            \n",
    "            ##if \"person\" is susceptible and they interact w/ someone who is \"infected\" \n",
    "            ##person gets added to the \"might get sick\"\n",
    "            if (person.status == \"Susceptible\"):\n",
    "                for m in person.Interaction:\n",
    "                    if (self.People[m].status == \"Infected\"):\n",
    "                        might_Get_Sick.append(person)\n",
    "            \n",
    "        ##Now! We're going to roll through our \"Might Get Sick\" and they each roll a die\n",
    "        ##this is only a list of susceptible people\n",
    "        for p in might_Get_Sick:\n",
    "            p.roll_for_infection()\n",
    "        "
   ]
  },
  {
   "cell_type": "markdown",
   "metadata": {},
   "source": [
    "## Lets build a population\n",
    "Build a population of 1000 with 10 initally infected people:\n",
    "`myCommunity = Population(1000,10)`"
   ]
  },
  {
   "cell_type": "code",
   "execution_count": 13,
   "metadata": {},
   "outputs": [
    {
     "name": "stdout",
     "output_type": "stream",
     "text": [
      "day: 0 Number of sick: 1\n",
      "day: 1 Number of sick: 4\n",
      "day: 2 Number of sick: 11\n",
      "day: 3 Number of sick: 28\n",
      "day: 4 Number of sick: 75\n",
      "day: 5 Number of sick: 216\n",
      "day: 6 Number of sick: 563\n",
      "day: 7 Number of sick: 1358\n",
      "day: 8 Number of sick: 2580\n",
      "day: 9 Number of sick: 3270\n",
      "day: 10 Number of sick: 3168\n",
      "day: 11 Number of sick: 2404\n",
      "day: 12 Number of sick: 1143\n",
      "day: 13 Number of sick: 309\n",
      "day: 14 Number of sick: 57\n",
      "day: 15 Number of sick: 9\n",
      "day: 16 Number of sick: 1\n",
      "day: 17 Number of sick: 0\n",
      "Number recovered: 3799\n",
      "Number susceptible: 2\n",
      "[[0, 1, 0], [1, 4, 0], [2, 11, 0], [3, 28, 0], [4, 75, 0], [5, 216, 4], [6, 563, 11], [7, 1358, 28], [8, 2580, 75], [9, 3270, 220], [10, 3168, 574], [11, 2404, 1386], [12, 1143, 2655], [13, 309, 3490], [14, 57, 3742], [15, 9, 3790], [16, 1, 3798], [17, 0, 3799]]\n"
     ]
    }
   ],
   "source": [
    "myCommunity = Population(3800,5)\n",
    "day = 0\n",
    "my_plot = []\n",
    "number_sick = myCommunity.number_of_sick()\n",
    "while (number_sick > 0):\n",
    "    number_sick = myCommunity.number_of_sick()\n",
    "    number_recovered = myCommunity.number_of_recovered()\n",
    "    my_plot.append([day, number_sick, number_recovered])\n",
    "    print (\"day:\", day, \"Number of sick:\", number_sick)\n",
    "\n",
    "    day = day+1\n",
    "    myCommunity.update()\n",
    "\n",
    "#print (\"day:\", day, \"Number of sick:\", myCommunity.number_of_sick())\n",
    "print (\"Number recovered:\", myCommunity.number_of_recovered())\n",
    "print (\"Number susceptible:\", myCommunity.number_of_susceptible())\n",
    "\n",
    "print (my_plot)"
   ]
  },
  {
   "cell_type": "code",
   "execution_count": 14,
   "metadata": {},
   "outputs": [],
   "source": [
    "import pandas as pd\n",
    "import matplotlib.pyplot as plt"
   ]
  },
  {
   "cell_type": "code",
   "execution_count": 15,
   "metadata": {},
   "outputs": [],
   "source": [
    "df = pd.DataFrame(my_plot, columns=['day','number_sick', 'number_recovered'])"
   ]
  },
  {
   "cell_type": "code",
   "execution_count": 16,
   "metadata": {},
   "outputs": [
    {
     "data": {
      "text/html": [
       "<div>\n",
       "<style scoped>\n",
       "    .dataframe tbody tr th:only-of-type {\n",
       "        vertical-align: middle;\n",
       "    }\n",
       "\n",
       "    .dataframe tbody tr th {\n",
       "        vertical-align: top;\n",
       "    }\n",
       "\n",
       "    .dataframe thead th {\n",
       "        text-align: right;\n",
       "    }\n",
       "</style>\n",
       "<table border=\"1\" class=\"dataframe\">\n",
       "  <thead>\n",
       "    <tr style=\"text-align: right;\">\n",
       "      <th></th>\n",
       "      <th>day</th>\n",
       "      <th>number_sick</th>\n",
       "      <th>number_recovered</th>\n",
       "    </tr>\n",
       "  </thead>\n",
       "  <tbody>\n",
       "    <tr>\n",
       "      <th>0</th>\n",
       "      <td>0</td>\n",
       "      <td>1</td>\n",
       "      <td>0</td>\n",
       "    </tr>\n",
       "    <tr>\n",
       "      <th>1</th>\n",
       "      <td>1</td>\n",
       "      <td>4</td>\n",
       "      <td>0</td>\n",
       "    </tr>\n",
       "    <tr>\n",
       "      <th>2</th>\n",
       "      <td>2</td>\n",
       "      <td>11</td>\n",
       "      <td>0</td>\n",
       "    </tr>\n",
       "    <tr>\n",
       "      <th>3</th>\n",
       "      <td>3</td>\n",
       "      <td>28</td>\n",
       "      <td>0</td>\n",
       "    </tr>\n",
       "    <tr>\n",
       "      <th>4</th>\n",
       "      <td>4</td>\n",
       "      <td>75</td>\n",
       "      <td>0</td>\n",
       "    </tr>\n",
       "    <tr>\n",
       "      <th>5</th>\n",
       "      <td>5</td>\n",
       "      <td>216</td>\n",
       "      <td>4</td>\n",
       "    </tr>\n",
       "    <tr>\n",
       "      <th>6</th>\n",
       "      <td>6</td>\n",
       "      <td>563</td>\n",
       "      <td>11</td>\n",
       "    </tr>\n",
       "    <tr>\n",
       "      <th>7</th>\n",
       "      <td>7</td>\n",
       "      <td>1358</td>\n",
       "      <td>28</td>\n",
       "    </tr>\n",
       "    <tr>\n",
       "      <th>8</th>\n",
       "      <td>8</td>\n",
       "      <td>2580</td>\n",
       "      <td>75</td>\n",
       "    </tr>\n",
       "    <tr>\n",
       "      <th>9</th>\n",
       "      <td>9</td>\n",
       "      <td>3270</td>\n",
       "      <td>220</td>\n",
       "    </tr>\n",
       "    <tr>\n",
       "      <th>10</th>\n",
       "      <td>10</td>\n",
       "      <td>3168</td>\n",
       "      <td>574</td>\n",
       "    </tr>\n",
       "    <tr>\n",
       "      <th>11</th>\n",
       "      <td>11</td>\n",
       "      <td>2404</td>\n",
       "      <td>1386</td>\n",
       "    </tr>\n",
       "    <tr>\n",
       "      <th>12</th>\n",
       "      <td>12</td>\n",
       "      <td>1143</td>\n",
       "      <td>2655</td>\n",
       "    </tr>\n",
       "    <tr>\n",
       "      <th>13</th>\n",
       "      <td>13</td>\n",
       "      <td>309</td>\n",
       "      <td>3490</td>\n",
       "    </tr>\n",
       "    <tr>\n",
       "      <th>14</th>\n",
       "      <td>14</td>\n",
       "      <td>57</td>\n",
       "      <td>3742</td>\n",
       "    </tr>\n",
       "    <tr>\n",
       "      <th>15</th>\n",
       "      <td>15</td>\n",
       "      <td>9</td>\n",
       "      <td>3790</td>\n",
       "    </tr>\n",
       "    <tr>\n",
       "      <th>16</th>\n",
       "      <td>16</td>\n",
       "      <td>1</td>\n",
       "      <td>3798</td>\n",
       "    </tr>\n",
       "    <tr>\n",
       "      <th>17</th>\n",
       "      <td>17</td>\n",
       "      <td>0</td>\n",
       "      <td>3799</td>\n",
       "    </tr>\n",
       "  </tbody>\n",
       "</table>\n",
       "</div>"
      ],
      "text/plain": [
       "    day  number_sick  number_recovered\n",
       "0     0            1                 0\n",
       "1     1            4                 0\n",
       "2     2           11                 0\n",
       "3     3           28                 0\n",
       "4     4           75                 0\n",
       "5     5          216                 4\n",
       "6     6          563                11\n",
       "7     7         1358                28\n",
       "8     8         2580                75\n",
       "9     9         3270               220\n",
       "10   10         3168               574\n",
       "11   11         2404              1386\n",
       "12   12         1143              2655\n",
       "13   13          309              3490\n",
       "14   14           57              3742\n",
       "15   15            9              3790\n",
       "16   16            1              3798\n",
       "17   17            0              3799"
      ]
     },
     "execution_count": 16,
     "metadata": {},
     "output_type": "execute_result"
    }
   ],
   "source": [
    "df"
   ]
  },
  {
   "cell_type": "code",
   "execution_count": 17,
   "metadata": {},
   "outputs": [
    {
     "data": {
      "image/png": "[encoded data removed]",
      "text/plain": [
       "<Figure size 432x288 with 1 Axes>"
      ]
     },
     "metadata": {
      "needs_background": "light"
     },
     "output_type": "display_data"
    }
   ],
   "source": [
    "fig = plt.figure()\n",
    "ax = plt.gca()\n",
    "fig = df.plot(kind='line', x='day', y='number_sick', ax=ax).get_figure()\n",
    "plt.savefig('test.png', bbox_inches='tight')\n",
    "plt.show()"
   ]
  },
  {
   "cell_type": "code",
   "execution_count": 18,
   "metadata": {},
   "outputs": [
    {
     "data": {
      "image/png": "[encoded data removed]",
      "text/plain": [
       "<Figure size 432x288 with 1 Axes>"
      ]
     },
     "metadata": {
      "needs_background": "light"
     },
     "output_type": "display_data"
    }
   ],
   "source": [
    "fig = plt.figure()\n",
    "ax = plt.gca()\n",
    "fig = df.plot(kind='line', x='day', y='number_recovered', ax=ax).get_figure()\n",
    "plt.savefig('test.png', bbox_inches='tight')\n",
    "plt.show()"
   ]
  },
  {
   "cell_type": "code",
   "execution_count": 19,
   "metadata": {},
   "outputs": [
    {
     "data": {
      "image/png": "[encoded data removed]",
      "text/plain": [
       "<Figure size 432x288 with 1 Axes>"
      ]
     },
     "metadata": {
      "needs_background": "light"
     },
     "output_type": "display_data"
    }
   ],
   "source": [
    "fig = plt.figure()\n",
    "ax1 = plt.gca()\n",
    "fig1 = df.plot(kind='line', x='day', y='number_recovered', ax=ax1).get_figure()\n",
    "fig2 = df.plot(kind='line', x='day', y='number_sick', ax=ax1).get_figure()\n",
    "plt.savefig('test.png')\n",
    "plt.show()"
   ]
  },
  {
   "cell_type": "code",
   "execution_count": 20,
   "metadata": {},
   "outputs": [],
   "source": [
    "df.to_csv(\"mydata.csv\")"
   ]
  },
  {
   "cell_type": "code",
   "execution_count": null,
   "metadata": {},
   "outputs": [],
   "source": []
  }
 ],
 "metadata": {
  "IMAGE_NAME": "taccsciapps/ds-nb-img:base-0.1.0",
  "UUID": "f5fba3ea-e6a5-11ec-b09d-b6ecb6431114",
  "kernelspec": {
   "display_name": "Python 3",
   "language": "python",
   "name": "python3"
  },
  "language_info": {
   "codemirror_mode": {
    "name": "ipython",
    "version": 3
   },
   "file_extension": ".py",
   "mimetype": "text/x-python",
   "name": "python",
   "nbconvert_exporter": "python",
   "pygments_lexer": "ipython3",
   "version": "3.6.8"
  }
 },
 "nbformat": 4,
 "nbformat_minor": 5
}
