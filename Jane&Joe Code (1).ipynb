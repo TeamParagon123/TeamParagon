{
 "cells": [
  {
   "cell_type": "code",
   "execution_count": null,
   "id": "8834ec02-26bb-4305-a9d8-2b555f2814c6",
   "metadata": {},
   "outputs": [],
   "source": [
    "import numpy as np\n",
    "import random"
   ]
  },
  {
   "cell_type": "code",
   "execution_count": null,
   "id": "51ab1fc9-614c-4b0a-b435-d8e2b26f99f8",
   "metadata": {},
   "outputs": [],
   "source": [
    "class Person(object):\n",
    "    def __init__(self):\n",
    "        self.status = \"Susceptible\"\n",
    "        self.days_sick = 0\n",
    "        self.sickness_rate = 10\n",
    "        \n",
    "    def infect(self, number_of_days_sick):\n",
    "        self.status = \"Infected\"\n",
    "        self.days_sick = number_of_days_sick\n",
    "        \n",
    "    def recover(self):\n",
    "        self.status = \"Recovered\"\n",
    "        self.days_sick = 0\n",
    "        \n",
    "    def update(self):\n",
    "        self.days_sick = self.days_sick - 1\n",
    "        if (self.days_sick < 0):\n",
    "            self.recover()\n",
    "            "
   ]
  },
  {
   "cell_type": "code",
   "execution_count": null,
   "id": "6ddd08f8-91c7-4929-bf29-47cfb2b9f2d9",
   "metadata": {},
   "outputs": [],
   "source": [
    "Joe = Person()\n",
    "Jane = Person()\n",
    "day = 0\n",
    "\n",
    "while (Joe.status != \"Recovered\"):\n",
    "    day = day + 1\n",
    "    \n",
    "    if (Joe.status != \"Infected\"):\n",
    "        Joe_chance_of_getting_sick = random.randint(0,101) #roll the die\n",
    "        \n",
    "        if (Joe_chance_of_getting_sick < Joe.sickness_rate): #did joe get sick\n",
    "            Joe.infect(5)\n",
    "            \n",
    "            \n",
    "    elif (Joe.status == \"Infected\"):\n",
    "        Joe.update()\n",
    "  \n",
    "    print( \"Joe is \" + Joe.status + \" day:\" + str(day))\n",
    "    \n",
    "while (Joe.status != \"Recovered\", \"Susceptible\"):\n",
    "    day = day + 1\n",
    "    \n",
    "    if (Jane.status != \"Infected\"):\n",
    "        Jane_chance_of_getting_sick = random.randint(0,101)\n",
    "            \n",
    "        if (Jane_chance_of_getting_sick < Jane.sickness_rate):\n",
    "            Jane.infect(5)\n",
    "            \n",
    "    elif (Jane.status == \"Infected\"):\n",
    "        Jane.update() \n",
    "\n",
    "    print( \"Jane is \" + Jane.status + \" day:\" + str(day))"
   ]
  },
  {
   "cell_type": "code",
   "execution_count": null,
   "id": "97ecbb2f-8777-40e4-8cef-b9183eec799e",
   "metadata": {},
   "outputs": [],
   "source": []
  }
 ],
 "metadata": {
  "IMAGE_NAME": "taccsciapps/ds-nb-img:base-0.1.0",
  "UUID": "c58bb31e-e6cb-11ec-9f16-b29a827ceff5",
  "kernelspec": {
   "display_name": "Python 3 (ipykernel)",
   "language": "python",
   "name": "python3"
  },
  "language_info": {
   "codemirror_mode": {
    "name": "ipython",
    "version": 3
   },
   "file_extension": ".py",
   "mimetype": "text/x-python",
   "name": "python",
   "nbconvert_exporter": "python",
   "pygments_lexer": "ipython3",
   "version": "3.9.10"
  }
 },
 "nbformat": 4,
 "nbformat_minor": 5
}
