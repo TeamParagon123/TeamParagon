{
 "cells": [
  {
   "cell_type": "markdown",
   "metadata": {},
   "source": [
    "Person object parameters:\n",
    "\n",
    "Joes:\n",
    "has a state: Suceptable, Infected, Recovered\n",
    "has number of days sick\n",
    "chance of being sick\n",
    "\n"
   ]
  },
  {
   "cell_type": "code",
   "execution_count": 1,
   "metadata": {},
   "outputs": [],
   "source": [
    "import numpy as np\n",
    "import random\n",
    "\n",
    "my_array = np.array"
   ]
  },
  {
   "cell_type": "code",
   "execution_count": 2,
   "metadata": {},
   "outputs": [],
   "source": [
    "#Unvaccinated in Iowa 37.7% not fully vaccinated\n",
    "class Person(object):\n",
    "    def __init__(self):\n",
    "    \n",
    "        self.status = \"Susceptible\"\n",
    "        self.days_sick = 0\n",
    "        self.sickness_rate = 10\n",
    "        #self.sickness_rate = 5(vaccinated)\n",
    "        self.Interaction = []\n",
    "    \n",
    "    def set_sickness_rate(self, new_rate):\n",
    "        self.sickness_rate = new_rate\n",
    "    \n",
    "    def infect(self, number_of_days_sick):\n",
    "        self.status = \"Infected\"\n",
    "        self.days_sick = number_of_days_sick\n",
    "    \n",
    "    def recover(self):\n",
    "        self.status = \"Recovered\"\n",
    "        self.days_sick = 0\n",
    "    \n",
    "    def update(self):\n",
    "        if (self.status == \"Susceptible\"):\n",
    "            self.roll_for_infection()\n",
    "            \n",
    "        elif (self.status == \"Infected\"):            \n",
    "            self.days_sick = self.days_sick - 1\n",
    "            if (self.days_sick <= 0):\n",
    "                self.recover()\n",
    "    \n",
    "    def update_days_sick(self):\n",
    "        if (self.status == \"Infected\"):            \n",
    "            self.days_sick = self.days_sick - 1\n",
    "            if (self.days_sick <= 0):\n",
    "                self.recover()\n",
    "            \n",
    "\n",
    "            \n",
    "    def roll_for_infection(self):\n",
    "        is_sick = (random.randint(0,101) < self.sickness_rate)\n",
    "        if (is_sick):\n",
    "            self.infect(4)\n",
    "            \n",
    "        "
   ]
  },
  {
   "cell_type": "markdown",
   "metadata": {},
   "source": [
    "Let's implement our object\n",
    "start w/ instantiating Joe as a Person"
   ]
  },
  {
   "cell_type": "code",
   "execution_count": 3,
   "metadata": {},
   "outputs": [
    {
     "name": "stdout",
     "output_type": "stream",
     "text": [
      "Joe is Susceptible day:1\n",
      "Jane is Susceptible day:1\n",
      "Joe is Susceptible day:2\n",
      "Jane is Susceptible day:2\n",
      "Joe is Infected day:3\n",
      "Jane is Susceptible day:3\n",
      "Joe is Infected day:4\n",
      "Jane is Infected day:4\n",
      "Joe is Infected day:5\n",
      "Jane is Infected day:5\n",
      "Joe is Infected day:6\n",
      "Jane is Infected day:6\n",
      "Joe is Recovered day:7\n",
      "Jane is Infected day:7\n",
      "Joe is Recovered day:8\n",
      "Jane is Recovered day:8\n"
     ]
    }
   ],
   "source": [
    "Joe = Person()\n",
    "Jane = Person()\n",
    "Jane.set_sickness_rate(10) #jane has a different sickness rate, joe has the default\n",
    "\n",
    "day = 0\n",
    "\n",
    "while (Joe.status != \"Recovered\" or Jane.status != \"Recovered\"):\n",
    "    day = day + 1        \n",
    "    Joe.update()\n",
    "    if (Joe.status == \"Infected\" or Jane.status == \"Infected\"):\n",
    "        Jane.update()\n",
    "        \n",
    "        \n",
    "    print(\"Joe is \" + Joe.status + \" day:\" + str(day))\n",
    "    print(\"Jane is \" + Jane.status + \" day:\" + str(day))\n",
    "    \n",
    "    #My conditions didn't happen, let's rerun\n",
    "    #if Joe is recovered and Jane is still susceptable, the condtions for our program weren't met\n",
    "    #run it again!\n",
    "    if (Joe.status == \"Recovered\" and Jane.status == \"Susceptible\"):\n",
    "        Joe.status = \"Susceptible\"\n",
    "        day = 0\n",
    "        print()\n",
    "        print (\"------- reset -------\")\n"
   ]
  },
  {
   "cell_type": "markdown",
   "metadata": {},
   "source": [
    "We're going to create a population of 100 Persons\n"
   ]
  },
  {
   "cell_type": "code",
   "execution_count": 4,
   "metadata": {},
   "outputs": [],
   "source": [
    "my_population = []\n",
    "n = 101\n",
    "for i in range(0,n):\n",
    "    generic_dude = Person()\n",
    "    my_population.append(generic_dude) # we now have a population of 100 people\n",
    "    "
   ]
  },
  {
   "cell_type": "code",
   "execution_count": 5,
   "metadata": {},
   "outputs": [
    {
     "name": "stdout",
     "output_type": "stream",
     "text": [
      "<class 'list'>\n"
     ]
    }
   ],
   "source": [
    "print (type(my_population))"
   ]
  },
  {
   "cell_type": "code",
   "execution_count": 6,
   "metadata": {},
   "outputs": [
    {
     "name": "stdout",
     "output_type": "stream",
     "text": [
      "101\n"
     ]
    }
   ],
   "source": [
    "print (len(my_population))"
   ]
  },
  {
   "cell_type": "code",
   "execution_count": 7,
   "metadata": {},
   "outputs": [
    {
     "name": "stdout",
     "output_type": "stream",
     "text": [
      "<class '__main__.Person'>\n"
     ]
    }
   ],
   "source": [
    "print (type(my_population[99]))"
   ]
  },
  {
   "cell_type": "code",
   "execution_count": 8,
   "metadata": {},
   "outputs": [
    {
     "name": "stdout",
     "output_type": "stream",
     "text": [
      "Infected\n"
     ]
    }
   ],
   "source": [
    "my_population[99].infect(10)\n",
    "print (my_population[99].status)"
   ]
  },
  {
   "cell_type": "code",
   "execution_count": 9,
   "metadata": {},
   "outputs": [
    {
     "name": "stdout",
     "output_type": "stream",
     "text": [
      "Person: 0  interacted with: [12, 42, 91, 54, 55, 31, 92, 33, 16, 5]\n",
      "Person: 1  interacted with: [53, 39, 95, 52, 22, 64, 41, 29, 98, 86]\n",
      "Person: 2  interacted with: [12, 16, 32, 98, 33, 46, 43, 24, 14, 13]\n",
      "Person: 3  interacted with: [52, 64, 73, 16, 49, 57, 61, 13, 61, 5]\n",
      "Person: 4  interacted with: [38, 45, 21, 60, 13, 80, 78, 83, 13, 36]\n",
      "Person: 5  interacted with: [58, 48, 53, 43, 89, 39, 85, 58, 51, 5]\n",
      "Person: 6  interacted with: [93, 92, 32, 99, 50, 79, 29, 97, 65, 19]\n",
      "Person: 7  interacted with: [66, 81, 60, 25, 54, 41, 66, 62, 93, 11]\n",
      "Person: 8  interacted with: [59, 63, 99, 10, 53, 45, 46, 69, 47, 14]\n",
      "Person: 9  interacted with: [46, 21, 96, 64, 71, 73, 73, 33, 74, 2]\n",
      "Person: 10  interacted with: [46, 43, 57, 89, 15, 66, 90, 18, 71, 18]\n",
      "Person: 11  interacted with: [24, 56, 76, 84, 85, 16, 83, 42, 93, 95]\n",
      "Person: 12  interacted with: [83, 76, 93, 81, 13, 21, 26, 11, 16, 42]\n",
      "Person: 13  interacted with: [24, 25, 17, 52, 9, 11, 14, 75, 10, 7]\n",
      "Person: 14  interacted with: [22, 9, 100, 69, 15, 74, 59, 19, 46, 53]\n",
      "Person: 15  interacted with: [45, 13, 52, 94, 68, 22, 17, 96, 66, 88]\n",
      "Person: 16  interacted with: [70, 96, 56, 40, 13, 0, 84, 98, 79, 87]\n",
      "Person: 17  interacted with: [57, 91, 50, 93, 49, 76, 52, 29, 44, 9]\n",
      "Person: 18  interacted with: [36, 56, 6, 32, 38, 1, 23, 64, 1, 81]\n",
      "Person: 19  interacted with: [58, 26, 65, 8, 69, 89, 81, 22, 57, 31]\n",
      "Person: 20  interacted with: [8, 76, 29, 95, 6, 37, 19, 46, 73, 24]\n",
      "Person: 21  interacted with: [32, 1, 89, 84, 30, 81, 92, 83, 30, 90]\n",
      "Person: 22  interacted with: [31, 87, 63, 11, 82, 81, 85, 30, 45, 66]\n",
      "Person: 23  interacted with: [3, 95, 47, 45, 85, 8, 6, 86, 70, 18]\n",
      "Person: 24  interacted with: [45, 11, 71, 35, 34, 26, 53, 1, 28, 66]\n",
      "Person: 25  interacted with: [50, 41, 39, 95, 87, 73, 95, 22, 18, 83]\n",
      "Person: 26  interacted with: [28, 65, 62, 62, 25, 86, 61, 41, 61, 88]\n",
      "Person: 27  interacted with: [59, 31, 100, 16, 2, 28, 53, 2, 14, 68]\n",
      "Person: 28  interacted with: [27, 18, 87, 8, 43, 74, 24, 21, 80, 84]\n",
      "Person: 29  interacted with: [72, 54, 61, 41, 74, 74, 70, 80, 39, 30]\n",
      "Person: 30  interacted with: [73, 96, 49, 34, 66, 20, 85, 98, 31, 80]\n",
      "Person: 31  interacted with: [53, 35, 83, 25, 6, 82, 96, 10, 20, 68]\n",
      "Person: 32  interacted with: [97, 6, 43, 80, 27, 99, 75, 51, 3, 68]\n",
      "Person: 33  interacted with: [3, 42, 11, 75, 98, 62, 30, 7, 42, 68]\n",
      "Person: 34  interacted with: [44, 52, 47, 55, 80, 31, 6, 27, 71, 56]\n",
      "Person: 35  interacted with: [88, 49, 30, 64, 33, 56, 33, 75, 5, 70]\n",
      "Person: 36  interacted with: [47, 38, 44, 63, 76, 72, 29, 60, 91, 42]\n",
      "Person: 37  interacted with: [31, 70, 69, 45, 68, 95, 7, 8, 50, 5]\n",
      "Person: 38  interacted with: [100, 63, 84, 94, 6, 38, 24, 97, 44, 17]\n",
      "Person: 39  interacted with: [70, 43, 42, 80, 61, 81, 66, 41, 39, 31]\n",
      "Person: 40  interacted with: [29, 90, 95, 93, 59, 22, 36, 51, 83, 26]\n",
      "Person: 41  interacted with: [24, 18, 88, 28, 59, 25, 62, 2, 89, 87]\n",
      "Person: 42  interacted with: [70, 56, 94, 88, 84, 34, 49, 36, 14, 100]\n",
      "Person: 43  interacted with: [66, 67, 61, 61, 40, 55, 97, 92, 100, 33]\n",
      "Person: 44  interacted with: [49, 37, 15, 54, 98, 7, 70, 25, 56, 34]\n",
      "Person: 45  interacted with: [10, 45, 84, 86, 77, 32, 10, 99, 80, 35]\n",
      "Person: 46  interacted with: [24, 35, 30, 26, 65, 51, 39, 4, 49, 27]\n",
      "Person: 47  interacted with: [62, 18, 95, 88, 86, 2, 80, 40, 44, 72]\n",
      "Person: 48  interacted with: [53, 63, 79, 17, 76, 42, 93, 1, 24, 41]\n",
      "Person: 49  interacted with: [43, 38, 67, 59, 59, 99, 54, 90, 57, 44]\n",
      "Person: 50  interacted with: [71, 20, 37, 92, 34, 76, 92, 44, 74, 74]\n",
      "Person: 51  interacted with: [28, 31, 83, 79, 43, 36, 29, 3, 14, 69]\n",
      "Person: 52  interacted with: [6, 86, 25, 24, 67, 32, 31, 89, 73, 72]\n",
      "Person: 53  interacted with: [42, 83, 13, 89, 0, 50, 2, 8, 39, 75]\n",
      "Person: 54  interacted with: [73, 28, 6, 22, 94, 97, 88, 90, 85, 52]\n",
      "Person: 55  interacted with: [35, 9, 47, 30, 60, 84, 9, 32, 71, 13]\n",
      "Person: 56  interacted with: [54, 19, 23, 56, 47, 86, 34, 91, 33, 38]\n",
      "Person: 57  interacted with: [47, 99, 75, 94, 22, 59, 30, 73, 40, 0]\n",
      "Person: 58  interacted with: [0, 3, 29, 14, 3, 90, 10, 71, 5, 91]\n",
      "Person: 59  interacted with: [62, 16, 99, 90, 43, 99, 79, 39, 0, 98]\n",
      "Person: 60  interacted with: [75, 25, 46, 53, 79, 71, 3, 9, 32, 97]\n",
      "Person: 61  interacted with: [50, 32, 19, 19, 35, 4, 16, 36, 69, 61]\n",
      "Person: 62  interacted with: [84, 31, 88, 16, 26, 60, 72, 28, 27, 33]\n",
      "Person: 63  interacted with: [24, 50, 49, 8, 40, 30, 52, 63, 51, 75]\n",
      "Person: 64  interacted with: [66, 46, 39, 33, 0, 96, 41, 6, 41, 17]\n",
      "Person: 65  interacted with: [27, 23, 12, 61, 14, 96, 11, 49, 33, 84]\n",
      "Person: 66  interacted with: [16, 65, 97, 57, 72, 81, 38, 34, 23, 52]\n",
      "Person: 67  interacted with: [28, 74, 48, 25, 40, 20, 93, 16, 1, 60]\n",
      "Person: 68  interacted with: [77, 86, 50, 52, 71, 81, 86, 75, 40, 99]\n",
      "Person: 69  interacted with: [70, 63, 7, 8, 98, 25, 87, 68, 8, 27]\n",
      "Person: 70  interacted with: [91, 84, 5, 59, 75, 76, 58, 75, 64, 63]\n",
      "Person: 71  interacted with: [1, 21, 18, 30, 17, 31, 2, 88, 55, 15]\n",
      "Person: 72  interacted with: [20, 12, 25, 18, 97, 13, 48, 25, 40, 7]\n",
      "Person: 73  interacted with: [82, 35, 90, 29, 66, 54, 21, 31, 54, 71]\n",
      "Person: 74  interacted with: [7, 11, 10, 29, 11, 65, 55, 47, 46, 45]\n",
      "Person: 75  interacted with: [41, 35, 87, 43, 30, 41, 56, 49, 64, 61]\n",
      "Person: 76  interacted with: [28, 8, 27, 32, 70, 82, 55, 28, 16, 86]\n",
      "Person: 77  interacted with: [5, 74, 94, 72, 65, 75, 94, 29, 32, 6]\n",
      "Person: 78  interacted with: [51, 70, 4, 24, 12, 62, 63, 30, 77, 3]\n",
      "Person: 79  interacted with: [11, 96, 97, 20, 42, 19, 62, 83, 63, 63]\n",
      "Person: 80  interacted with: [91, 20, 42, 10, 72, 72, 18, 60, 5, 85]\n",
      "Person: 81  interacted with: [16, 20, 13, 2, 10, 91, 52, 95, 45, 4]\n",
      "Person: 82  interacted with: [10, 82, 70, 60, 27, 74, 68, 33, 38, 53]\n",
      "Person: 83  interacted with: [2, 78, 36, 3, 2, 48, 50, 62, 13, 75]\n",
      "Person: 84  interacted with: [32, 5, 91, 15, 24, 59, 76, 35, 26, 58]\n",
      "Person: 85  interacted with: [20, 88, 85, 50, 23, 52, 17, 41, 27, 23]\n",
      "Person: 86  interacted with: [31, 90, 89, 17, 75, 54, 96, 77, 42, 16]\n",
      "Person: 87  interacted with: [81, 75, 41, 62, 84, 89, 13, 33, 27, 66]\n",
      "Person: 88  interacted with: [74, 65, 84, 52, 29, 56, 3, 96, 30, 7]\n",
      "Person: 89  interacted with: [63, 63, 23, 58, 93, 54, 96, 62, 85, 89]\n",
      "Person: 90  interacted with: [95, 27, 62, 72, 20, 93, 84, 15, 6, 35]\n",
      "Person: 91  interacted with: [68, 69, 42, 91, 35, 17, 69, 74, 52, 33]\n",
      "Person: 92  interacted with: [54, 48, 30, 20, 30, 7, 16, 66, 87, 69]\n",
      "Person: 93  interacted with: [69, 63, 21, 37, 89, 88, 100, 100, 49, 46]\n",
      "Person: 94  interacted with: [85, 40, 69, 9, 76, 14, 48, 94, 34, 1]\n",
      "Person: 95  interacted with: [54, 14, 95, 5, 38, 68, 25, 54, 96, 98]\n",
      "Person: 96  interacted with: [68, 77, 31, 38, 98, 37, 26, 38, 63, 95]\n",
      "Person: 97  interacted with: [65, 59, 11, 46, 95, 49, 37, 22, 2, 57]\n",
      "Person: 98  interacted with: [9, 42, 47, 53, 99, 92, 67, 50, 7, 15]\n",
      "Person: 99  interacted with: [2, 53, 7, 4, 58, 88, 65, 20, 50, 39]\n",
      "Person: 100  interacted with: [50, 26, 8, 90, 26, 10, 54, 21, 30, 70]\n"
     ]
    }
   ],
   "source": [
    "interactions = []\n",
    "index = -1\n",
    "for p in my_population:\n",
    "    p_interactions = []\n",
    "    for i in range(0,10):\n",
    "        r = random.randint(0,100)\n",
    "        p_interactions.append(r)\n",
    "    interactions.append(p_interactions)\n",
    "\n",
    "for i in interactions:\n",
    "    index = index + 1\n",
    "    print (\"Person:\", index, \" interacted with:\", i)"
   ]
  },
  {
   "cell_type": "markdown",
   "metadata": {},
   "source": [
    "Randomly Infect 10 people\n",
    "print out the number of people who are sick at the beginning of day 1\n",
    "\n",
    "We're going to simulate Day 1\n",
    "If anyone interacts with these 10 people, they must roll a die to see if they get sick\n",
    "\n",
    "meaning, every sick person that shows up in someones interaction list, that someone rolls to see if they get sick or not.\n",
    "\n",
    "Also, *every* person who shows up in a sick persons interaction list, has to roll to see if they get sick or now.\n",
    "\n",
    "Print out the number of people sick after day 1"
   ]
  },
  {
   "cell_type": "code",
   "execution_count": 10,
   "metadata": {},
   "outputs": [],
   "source": [
    "#first thing: infect 10 people\n",
    "\n",
    "#print out the number of people who are sick\n",
    "\n",
    "#look at their interaction lists\n",
    "\n",
    "#If anyone interacts with them, see if they get sick\n",
    "\n",
    "\n"
   ]
  },
  {
   "cell_type": "code",
   "execution_count": 11,
   "metadata": {},
   "outputs": [
    {
     "name": "stdout",
     "output_type": "stream",
     "text": [
      "Day 1, number of people sick:10\n",
      "[21, 28, 76, 24, 88, 9, 86, 39, 81, 60]\n",
      "End of Day 1, number of people sick: 43\n",
      "[21, 28, 76, 24, 88, 9, 86, 39, 81, 60, 2, 62, 19, 69, 11, 29, 42, 47, 44, 54, 59, 48, 49, 46, 56, 57, 31, 67, 73, 84, 78, 87, 37, 18, 15, 85, 27, 63, 89, 91, 92, 95, 99]\n"
     ]
    }
   ],
   "source": [
    "# We're selecting 10 indexes of people we're going to infect\n",
    "currently_infected = random.sample(range(100), 10)\n",
    "\n",
    "for i in currently_infected:\n",
    "    my_population[i].infect(5)\n",
    "\n",
    "\n",
    "print (\"Day 1, number of people sick:\" + str(len(currently_infected)))\n",
    "print (currently_infected)\n",
    "\n",
    "interactions = []\n",
    "person_index = -1\n",
    "for p in my_population:\n",
    "    person_index = person_index + 1\n",
    "\n",
    "    # if person_index is in the currently_sick list, everyone they interact w/ can get sick\n",
    "    \n",
    "    p_interactions = []\n",
    "    for i in range(0,10):        \n",
    "        r = random.randint(0,99)\n",
    "        p_interactions.append(r)\n",
    "\n",
    "        #If person_index is already sick, everyone they contact, might also get sick\n",
    "        \n",
    "        if (person_index in currently_infected):\n",
    "            my_population[r].update()\n",
    "            if (my_population[r].status == \"Infected\" and r not in currently_infected):\n",
    "                currently_infected.append(r)\n",
    "        #If anyone has an infected person in their interactions list, *they* might get infected\n",
    "        if (r in currently_infected):\n",
    "            my_population[person_index].update()\n",
    "            if (my_population[person_index].status == \"Infected\" and person_index not in currently_infected):\n",
    "                currently_infected.append(person_index)\n",
    "    interactions.append(p_interactions)\n",
    "        \n",
    "        \n",
    "# person_index = -1\n",
    "# for i in interactions:\n",
    "#     person_index = person_index + 1\n",
    "#     print (\"Person:\", person_index, \" interacted with:\", i)\n",
    "\n",
    "print (\"End of Day 1, number of people sick:\", len(currently_infected))\n",
    "print (currently_infected)"
   ]
  },
  {
   "cell_type": "markdown",
   "metadata": {},
   "source": [
    "## We need \"something\" to manage and hold our People"
   ]
  },
  {
   "cell_type": "code",
   "execution_count": 12,
   "metadata": {},
   "outputs": [],
   "source": [
    "class Population:\n",
    "    def __init__(self, number=100, interaction=10):\n",
    "        self.People = []\n",
    "        self.number = number\n",
    "        self.interaction = interaction\n",
    "        \n",
    "        if (number < 100):\n",
    "            self.number = 100\n",
    "        \n",
    "        if (interaction < 10):\n",
    "            self.interaction = 10\n",
    "        \n",
    "        ##build our population\n",
    "        patient_Zero = Person()\n",
    "        patient_Zero.infect(5)\n",
    "        \n",
    "        self.People.append(patient_Zero)\n",
    "        \n",
    "        for i in range(0,number):\n",
    "            p = Person()\n",
    "            self.People.append(p)\n",
    "            \n",
    "    def number_of_sick(self):\n",
    "        sick_Count = 0\n",
    "        for j in self.People:\n",
    "            if (j.status == \"Infected\"):\n",
    "                sick_Count = sick_Count + 1\n",
    "                \n",
    "        return sick_Count\n",
    "    \n",
    "    def number_of_recovered(self):\n",
    "        recovered_Count = 0\n",
    "        for j in self.People:\n",
    "            if (j.status == \"Recovered\"):\n",
    "                recovered_Count = recovered_Count + 1\n",
    "        \n",
    "        return recovered_Count\n",
    "    \n",
    "    def number_of_susceptible(self):\n",
    "        susceptible_Count = 0\n",
    "        for j in self.People:\n",
    "            if (j.status == \"Susceptible\"):\n",
    "                susceptible_Count = susceptible_Count + 1\n",
    "                \n",
    "        return susceptible_Count\n",
    "    \n",
    "    ## Here's the brains of the Population class (and our code)\n",
    "    ## the update will be ran everyday (meaning, every iteration of our while loop)\n",
    "    ## build interaction tables (who interacted with whom)\n",
    "    ## if marked sick they must roll to see if (one per interaction)\n",
    "    ## if I interacted with 10 people, each of them must roll and vice versa if they\n",
    "    ## they were marked as infected\n",
    "    def update(self):\n",
    "        ## people who are might get sick\n",
    "        might_Get_Sick = []\n",
    "        \n",
    "        for person in self.People:\n",
    "            \n",
    "            #clear out your interactions per day\n",
    "            person.Interaction = []\n",
    "            \n",
    "            ##These are the n number of people that you interact with\n",
    "            for i in range(0, self.interaction):\n",
    "                r = random.randint(0,self.number)\n",
    "                person.Interaction.append(r)\n",
    "                \n",
    "            ##if \"person\" is Infected, every single person they interacted with might get sick\n",
    "            if (person.status == \"Infected\"):\n",
    "                person.update_days_sick()\n",
    "                \n",
    "                for m in person.Interaction:\n",
    "                    if (self.People[m].status == \"Susceptible\"): #only susceptible people can get sick\n",
    "                        might_Get_Sick.append(self.People[m])\n",
    "            \n",
    "            ##if \"person\" is susceptible and they interact w/ someone who is \"infected\" \n",
    "            ##person gets added to the \"might get sick\"\n",
    "            if (person.status == \"Susceptible\"):\n",
    "                for m in person.Interaction:\n",
    "                    if (self.People[m].status == \"Infected\"):\n",
    "                        might_Get_Sick.append(person)\n",
    "            \n",
    "        ##Now! We're going to roll through our \"Might Get Sick\" and they each roll a die\n",
    "        ##this is only a list of susceptible people\n",
    "        for p in might_Get_Sick:\n",
    "            p.roll_for_infection()\n",
    "        "
   ]
  },
  {
   "cell_type": "markdown",
   "metadata": {},
   "source": [
    "## Lets build a population\n",
    "Build a population of 1000 with 10 initally infected people:\n",
    "`myCommunity = Population(1000,10)`"
   ]
  },
  {
   "cell_type": "code",
   "execution_count": 13,
   "metadata": {},
   "outputs": [
    {
     "name": "stdout",
     "output_type": "stream",
     "text": [
      "day: 0 Number of sick: 1\n",
      "day: 1 Number of sick: 6\n",
      "day: 2 Number of sick: 23\n",
      "day: 3 Number of sick: 65\n",
      "day: 4 Number of sick: 207\n",
      "day: 5 Number of sick: 553\n",
      "day: 6 Number of sick: 1321\n",
      "day: 7 Number of sick: 2459\n",
      "day: 8 Number of sick: 3201\n",
      "day: 9 Number of sick: 3144\n",
      "day: 10 Number of sick: 2410\n",
      "day: 11 Number of sick: 1242\n",
      "day: 12 Number of sick: 359\n",
      "day: 13 Number of sick: 66\n",
      "day: 14 Number of sick: 15\n",
      "day: 15 Number of sick: 3\n",
      "day: 16 Number of sick: 2\n",
      "day: 17 Number of sick: 0\n",
      "Number recovered: 3769\n",
      "Number susceptible: 2\n",
      "[[0, 1, 0], [1, 6, 0], [2, 23, 0], [3, 65, 0], [4, 207, 0], [5, 553, 6], [6, 1321, 23], [7, 2459, 65], [8, 3201, 207], [9, 3144, 559], [10, 2410, 1344], [11, 1242, 2524], [12, 359, 3408], [13, 66, 3703], [14, 15, 3754], [15, 3, 3766], [16, 2, 3767], [17, 0, 3769]]\n"
     ]
    }
   ],
   "source": [
    "myCommunity = Population(3770,5)\n",
    "day = 0\n",
    "my_plot = []\n",
    "number_sick = myCommunity.number_of_sick()\n",
    "while (number_sick > 0):\n",
    "    number_sick = myCommunity.number_of_sick()\n",
    "    number_recovered = myCommunity.number_of_recovered()\n",
    "    my_plot.append([day, number_sick, number_recovered])\n",
    "    print (\"day:\", day, \"Number of sick:\", number_sick)\n",
    "\n",
    "    day = day+1\n",
    "    myCommunity.update()\n",
    "\n",
    "#print (\"day:\", day, \"Number of sick:\", myCommunity.number_of_sick())\n",
    "print (\"Number recovered:\", myCommunity.number_of_recovered())\n",
    "print (\"Number susceptible:\", myCommunity.number_of_susceptible())\n",
    "\n",
    "print (my_plot)"
   ]
  },
  {
   "cell_type": "code",
   "execution_count": 14,
   "metadata": {},
   "outputs": [],
   "source": [
    "import pandas as pd\n",
    "import matplotlib.pyplot as plt"
   ]
  },
  {
   "cell_type": "code",
   "execution_count": 15,
   "metadata": {},
   "outputs": [],
   "source": [
    "df = pd.DataFrame(my_plot, columns=['day','number_sick', 'number_recovered'])"
   ]
  },
  {
   "cell_type": "code",
   "execution_count": 16,
   "metadata": {},
   "outputs": [
    {
     "data": {
      "text/html": [
       "<div>\n",
       "<style scoped>\n",
       "    .dataframe tbody tr th:only-of-type {\n",
       "        vertical-align: middle;\n",
       "    }\n",
       "\n",
       "    .dataframe tbody tr th {\n",
       "        vertical-align: top;\n",
       "    }\n",
       "\n",
       "    .dataframe thead th {\n",
       "        text-align: right;\n",
       "    }\n",
       "</style>\n",
       "<table border=\"1\" class=\"dataframe\">\n",
       "  <thead>\n",
       "    <tr style=\"text-align: right;\">\n",
       "      <th></th>\n",
       "      <th>day</th>\n",
       "      <th>number_sick</th>\n",
       "      <th>number_recovered</th>\n",
       "    </tr>\n",
       "  </thead>\n",
       "  <tbody>\n",
       "    <tr>\n",
       "      <th>0</th>\n",
       "      <td>0</td>\n",
       "      <td>1</td>\n",
       "      <td>0</td>\n",
       "    </tr>\n",
       "    <tr>\n",
       "      <th>1</th>\n",
       "      <td>1</td>\n",
       "      <td>6</td>\n",
       "      <td>0</td>\n",
       "    </tr>\n",
       "    <tr>\n",
       "      <th>2</th>\n",
       "      <td>2</td>\n",
       "      <td>23</td>\n",
       "      <td>0</td>\n",
       "    </tr>\n",
       "    <tr>\n",
       "      <th>3</th>\n",
       "      <td>3</td>\n",
       "      <td>65</td>\n",
       "      <td>0</td>\n",
       "    </tr>\n",
       "    <tr>\n",
       "      <th>4</th>\n",
       "      <td>4</td>\n",
       "      <td>207</td>\n",
       "      <td>0</td>\n",
       "    </tr>\n",
       "    <tr>\n",
       "      <th>5</th>\n",
       "      <td>5</td>\n",
       "      <td>553</td>\n",
       "      <td>6</td>\n",
       "    </tr>\n",
       "    <tr>\n",
       "      <th>6</th>\n",
       "      <td>6</td>\n",
       "      <td>1321</td>\n",
       "      <td>23</td>\n",
       "    </tr>\n",
       "    <tr>\n",
       "      <th>7</th>\n",
       "      <td>7</td>\n",
       "      <td>2459</td>\n",
       "      <td>65</td>\n",
       "    </tr>\n",
       "    <tr>\n",
       "      <th>8</th>\n",
       "      <td>8</td>\n",
       "      <td>3201</td>\n",
       "      <td>207</td>\n",
       "    </tr>\n",
       "    <tr>\n",
       "      <th>9</th>\n",
       "      <td>9</td>\n",
       "      <td>3144</td>\n",
       "      <td>559</td>\n",
       "    </tr>\n",
       "    <tr>\n",
       "      <th>10</th>\n",
       "      <td>10</td>\n",
       "      <td>2410</td>\n",
       "      <td>1344</td>\n",
       "    </tr>\n",
       "    <tr>\n",
       "      <th>11</th>\n",
       "      <td>11</td>\n",
       "      <td>1242</td>\n",
       "      <td>2524</td>\n",
       "    </tr>\n",
       "    <tr>\n",
       "      <th>12</th>\n",
       "      <td>12</td>\n",
       "      <td>359</td>\n",
       "      <td>3408</td>\n",
       "    </tr>\n",
       "    <tr>\n",
       "      <th>13</th>\n",
       "      <td>13</td>\n",
       "      <td>66</td>\n",
       "      <td>3703</td>\n",
       "    </tr>\n",
       "    <tr>\n",
       "      <th>14</th>\n",
       "      <td>14</td>\n",
       "      <td>15</td>\n",
       "      <td>3754</td>\n",
       "    </tr>\n",
       "    <tr>\n",
       "      <th>15</th>\n",
       "      <td>15</td>\n",
       "      <td>3</td>\n",
       "      <td>3766</td>\n",
       "    </tr>\n",
       "    <tr>\n",
       "      <th>16</th>\n",
       "      <td>16</td>\n",
       "      <td>2</td>\n",
       "      <td>3767</td>\n",
       "    </tr>\n",
       "    <tr>\n",
       "      <th>17</th>\n",
       "      <td>17</td>\n",
       "      <td>0</td>\n",
       "      <td>3769</td>\n",
       "    </tr>\n",
       "  </tbody>\n",
       "</table>\n",
       "</div>"
      ],
      "text/plain": [
       "    day  number_sick  number_recovered\n",
       "0     0            1                 0\n",
       "1     1            6                 0\n",
       "2     2           23                 0\n",
       "3     3           65                 0\n",
       "4     4          207                 0\n",
       "5     5          553                 6\n",
       "6     6         1321                23\n",
       "7     7         2459                65\n",
       "8     8         3201               207\n",
       "9     9         3144               559\n",
       "10   10         2410              1344\n",
       "11   11         1242              2524\n",
       "12   12          359              3408\n",
       "13   13           66              3703\n",
       "14   14           15              3754\n",
       "15   15            3              3766\n",
       "16   16            2              3767\n",
       "17   17            0              3769"
      ]
     },
     "execution_count": 16,
     "metadata": {},
     "output_type": "execute_result"
    }
   ],
   "source": [
    "df"
   ]
  },
  {
   "cell_type": "code",
   "execution_count": 17,
   "metadata": {},
   "outputs": [
    {
     "data": {
      "image/png": "[encoded data removed]",
      "text/plain": [
       "<Figure size 432x288 with 1 Axes>"
      ]
     },
     "metadata": {
      "needs_background": "light"
     },
     "output_type": "display_data"
    }
   ],
   "source": [
    "fig = plt.figure()\n",
    "ax = plt.gca()\n",
    "fig = df.plot(kind='line', x='day', y='number_sick', ax=ax).get_figure()\n",
    "plt.savefig('test.png', bbox_inches='tight')\n",
    "plt.show()"
   ]
  },
  {
   "cell_type": "code",
   "execution_count": 18,
   "metadata": {},
   "outputs": [
    {
     "data": {
      "image/png": "[encoded data removed]",
      "text/plain": [
       "<Figure size 432x288 with 1 Axes>"
      ]
     },
     "metadata": {
      "needs_background": "light"
     },
     "output_type": "display_data"
    }
   ],
   "source": [
    "fig = plt.figure()\n",
    "ax = plt.gca()\n",
    "fig = df.plot(kind='line', x='day', y='number_recovered', ax=ax).get_figure()\n",
    "plt.savefig('test.png', bbox_inches='tight')\n",
    "plt.show()"
   ]
  },
  {
   "cell_type": "code",
   "execution_count": 19,
   "metadata": {},
   "outputs": [
    {
     "data": {
      "image/png": "[encoded data removed]",
      "text/plain": [
       "<Figure size 432x288 with 1 Axes>"
      ]
     },
     "metadata": {
      "needs_background": "light"
     },
     "output_type": "display_data"
    }
   ],
   "source": [
    "fig = plt.figure()\n",
    "ax1 = plt.gca()\n",
    "fig1 = df.plot(kind='line', x='day', y='number_recovered', ax=ax1).get_figure()\n",
    "fig2 = df.plot(kind='line', x='day', y='number_sick', ax=ax1).get_figure()\n",
    "plt.savefig('test.png')\n",
    "plt.show()"
   ]
  },
  {
   "cell_type": "code",
   "execution_count": 20,
   "metadata": {},
   "outputs": [],
   "source": [
    "df.to_csv(\"mydata.csv\")"
   ]
  },
  {
   "cell_type": "code",
   "execution_count": null,
   "metadata": {},
   "outputs": [],
   "source": []
  }
 ],
 "metadata": {
  "IMAGE_NAME": "taccsciapps/ds-nb-img:base-0.1.0",
  "UUID": "f5fba3ea-e6a5-11ec-b09d-b6ecb6431114",
  "kernelspec": {
   "display_name": "Python 3",
   "language": "python",
   "name": "python3"
  },
  "language_info": {
   "codemirror_mode": {
    "name": "ipython",
    "version": 3
   },
   "file_extension": ".py",
   "mimetype": "text/x-python",
   "name": "python",
   "nbconvert_exporter": "python",
   "pygments_lexer": "ipython3",
   "version": "3.6.8"
  }
 },
 "nbformat": 4,
 "nbformat_minor": 5
}
